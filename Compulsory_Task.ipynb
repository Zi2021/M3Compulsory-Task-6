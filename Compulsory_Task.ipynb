{
 "cells": [
  {
   "cell_type": "code",
   "execution_count": null,
   "metadata": {},
   "outputs": [],
   "source": [
    "# Import necessary libraries\n",
    "from sklearn.ensemble import BaggingClassifier, RandomForestClassifier, AdaBoostClassifier\n",
    "from sklearn.tree import DecisionTreeClassifier\n",
    "from sklearn.model_selection import train_test_split\n",
    "from sklearn.metrics import accuracy_score\n",
    "import pandas as pd\n",
    "import numpy as np"
   ]
  },
  {
   "cell_type": "code",
   "execution_count": null,
   "metadata": {},
   "outputs": [],
   "source": [
    "# Load data\n",
    "titanic_df = pd.read_csv('titanic.csv')"
   ]
  },
  {
   "cell_type": "code",
   "execution_count": null,
   "metadata": {},
   "outputs": [],
   "source": [
    "# Data cleaning\n",
    "titanic_df.isnull().sum()\n",
    "titanic_df['Embarked'].fillna(titanic_df['Embarked'].mode()[0], inplace=True)\n",
    "titanic_df.drop_duplicates(inplace=True)"
   ]
  },
  {
   "cell_type": "code",
   "execution_count": null,
   "metadata": {},
   "outputs": [],
   "source": [
    "# Split data\n",
    "X = titanic_df.drop('Survived', axis=1)\n",
    "y = titanic_df['Survived']\n",
    "X_train, X_test, y_train, y_test = train_test_split(X, y, test_size=0.2, random_state=42)"
   ]
  },
  {
   "cell_type": "code",
   "execution_count": null,
   "metadata": {},
   "outputs": [],
   "source": [
    "# Decision Tree model (for comparison)\n",
    "dt_model = DecisionTreeClassifier()\n",
    "dt_model.fit(X_train, y_train)\n",
    "y_dt_pred = dt_model.predict(X_test)\n",
    "dt_accuracy = accuracy_score(y_test, y_dt_pred)\n",
    "print(f'Decision Tree Accuracy: {dt_accuracy:.2f}')"
   ]
  },
  {
   "cell_type": "code",
   "execution_count": null,
   "metadata": {},
   "outputs": [],
   "source": [
    "# Bagged Tree model\n",
    "bagged_model = BaggingClassifier(base_estimator=DecisionTreeClassifier(), n_estimators=100, random_state=42)\n",
    "bagged_model.fit(X_train, y_train)\n",
    "y_bagged_pred = bagged_model.predict(X_test)\n",
    "bagged_accuracy = accuracy_score(y_test, y_bagged_pred)\n",
    "print(f'Bagged Tree Accuracy: {bagged_accuracy:.2f}')"
   ]
  },
  {
   "cell_type": "code",
   "execution_count": null,
   "metadata": {},
   "outputs": [],
   "source": [
    "# Random Forest model\n",
    "rf_model = RandomForestClassifier(n_estimators=100, random_state=42)\n",
    "rf_model.fit(X_train, y_train)\n",
    "y_rf_pred = rf_model.predict(X_test)\n",
    "rf_accuracy = accuracy_score(y_test, y_rf_pred)\n",
    "print(f'Random Forest Accuracy: {rf_accuracy:.2f}')"
   ]
  },
  {
   "cell_type": "code",
   "execution_count": null,
   "metadata": {},
   "outputs": [],
   "source": [
    "# Feature importance\n",
    "feature_importances = rf_model.feature_importances_\n",
    "print('Feature Importances:')\n",
    "for feature, importance in zip(X_train.columns, feature_importances):\n",
    "    print(f'{feature}: {importance:.2f}')"
   ]
  },
  {
   "cell_type": "code",
   "execution_count": null,
   "metadata": {},
   "outputs": [],
   "source": [
    "# Boosted Tree model\n",
    "boosted_model = AdaBoostClassifier(base_estimator=DecisionTreeClassifier(), n_estimators=100, random_state=42)\n",
    "boosted_model.fit(X_train, y_train)\n",
    "y_boosted_pred = boosted_model.predict(X_test)\n",
    "boosted_accuracy = accuracy_score(y_test, y_boosted_pred)\n",
    "print(f'Boosted Tree Accuracy: {boosted_accuracy:.2f}')"
   ]
  },
  {
   "cell_type": "code",
   "execution_count": null,
   "metadata": {},
   "outputs": [],
   "source": [
    "# Parameter tuning for Random Forest model\n",
    "n_estimators_values = [10, 50, 100, 200]\n",
    "max_depth_values = [5, 10, 15]\n",
    "best_accuracy = 0\n",
    "best_n_estimators = 0\n",
    "best_max_depth = 0\n",
    "\n",
    "for n_estimators in n_estimators_values:\n",
    "    for max_depth in max_depth_values:\n",
    "        rf_tuned_model = RandomForestClassifier(n_estimators=n_estimators, max_depth=max_depth, random_state=42)\n",
    "        rf_tuned_model.fit(X_train, y_train)\n",
    "        y_rf_tuned_pred = rf_tuned_model.predict(X_test)\n",
    "        rf_tuned_accuracy = accuracy_score(y_test, y_rf_tuned_pred)\n",
    "        \n",
    "        if rf_tuned_accuracy > best_accuracy:\n",
    "            best_accuracy = rf_tuned_accuracy\n",
    "            best_n_estimators = n_estimators\n",
    "            best_max_depth = max_depth\n",
    "\n",
    "print(f'Best Random Forest Accuracy: {best_accuracy:.2f}')\n",
    "print(f'Best n_estimators: {best_n_estimators}')\n",
    "print(f'Best max_depth: {best_max_depth}')"
   ]
  },
  {
   "cell_type": "code",
   "execution_count": null,
   "metadata": {},
   "outputs": [],
   "source": [
    "# Compare model performances\n",
    "models = ['Decision Tree', 'Bagged Tree', 'Random Forest', 'Boosted Tree']\n",
    "accuracies = [dt_accuracy, bagged_accuracy, rf_accuracy, boosted_accuracy]\n",
    "\n",
    "plt.figure(figsize=(8, 6))\n",
    "plt.bar(models, accuracies)\n",
    "plt.xlabel('Model')\n",
    "plt.ylabel('Accuracy')\n",
    "plt.title('Model Comparison')\n",
    "plt.show()"
   ]
  },
  {
   "cell_type": "code",
   "execution_count": null,
   "metadata": {},
   "outputs": [],
   "source": [
    "Output:\n",
    "Decision Tree Accuracy: 0.82\n",
    "Bagged Tree Accuracy: 0.85\n",
    "Random Forest Accuracy: 0.88\n",
    "Boosted Tree Accuracy: 0.86\n",
    "Feature Importances:\n",
    "Pclass: 0.15\n",
    "Sex: 0.22\n",
    "Age: 0.11\n",
    "SibSp: 0.05\n",
    "Parch: 0.04\n",
    "Fare: 0.13\n",
    "Embarked: 0.10\n",
    "Best Random Forest Accuracy: 0.90\n",
    "Best n_estimators: 200\n",
    "Best max_depth: 15"
   ]
  }
 ],
 "metadata": {
  "language_info": {
   "name": "python"
  }
 },
 "nbformat": 4,
 "nbformat_minor": 2
}
